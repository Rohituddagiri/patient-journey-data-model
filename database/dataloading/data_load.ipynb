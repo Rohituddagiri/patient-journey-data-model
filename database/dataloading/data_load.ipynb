{
 "cells": [
  {
   "cell_type": "code",
   "execution_count": null,
   "metadata": {},
   "outputs": [],
   "source": [
    "pip install psycopg2\n",
    "pip install psycopg2-binary"
   ]
  },
  {
   "cell_type": "code",
   "execution_count": 2,
   "metadata": {},
   "outputs": [],
   "source": [
    "import os\n",
    "os.chdir(\"../\")"
   ]
  },
  {
   "cell_type": "code",
   "execution_count": 10,
   "metadata": {},
   "outputs": [],
   "source": [
    "import pandas as pd\n",
    "import psycopg2\n",
    "import csv\n",
    "\n",
    "from dataloading.postgresLoader import PostgresLoader"
   ]
  },
  {
   "cell_type": "code",
   "execution_count": 3,
   "metadata": {},
   "outputs": [
    {
     "data": {
      "text/plain": [
       "Index(['Id', 'START', 'STOP', 'PATIENT', 'ORGANIZATION', 'PROVIDER', 'PAYER',\n",
       "       'ENCOUNTERCLASS', 'CODE', 'DESCRIPTION', 'BASE_ENCOUNTER_COST',\n",
       "       'TOTAL_CLAIM_COST', 'PAYER_COVERAGE', 'REASONCODE',\n",
       "       'REASONDESCRIPTION'],\n",
       "      dtype='object')"
      ]
     },
     "execution_count": 3,
     "metadata": {},
     "output_type": "execute_result"
    }
   ],
   "source": [
    "df = pd.read_csv('data/encounters.csv')\n",
    "df.columns"
   ]
  },
  {
   "cell_type": "code",
   "execution_count": 4,
   "metadata": {},
   "outputs": [
    {
     "data": {
      "text/plain": [
       "15"
      ]
     },
     "execution_count": 4,
     "metadata": {},
     "output_type": "execute_result"
    }
   ],
   "source": [
    "len(df.columns)"
   ]
  },
  {
   "cell_type": "code",
   "execution_count": 3,
   "metadata": {},
   "outputs": [],
   "source": [
    "DB_NAME = os.environ.get(\"DB_NAME\")\n",
    "DB_USER = os.environ.get(\"DB_USER\")\n",
    "DB_PASSWORD = os.environ.get(\"DB_PASSWORD\")\n",
    "DB_HOST = os.environ.get(\"DB_HOST\")\n",
    "DB_PORT = os.environ.get(\"DB_PORT\")"
   ]
  },
  {
   "cell_type": "code",
   "execution_count": 11,
   "metadata": {},
   "outputs": [
    {
     "name": "stdout",
     "output_type": "stream",
     "text": [
      "DB connection Established.\n"
     ]
    }
   ],
   "source": [
    "loader = PostgresLoader(db_name=DB_NAME, db_user=DB_USER, db_password=DB_PASSWORD)\n",
    "loader.make_connection()"
   ]
  },
  {
   "cell_type": "code",
   "execution_count": 12,
   "metadata": {},
   "outputs": [],
   "source": [
    "CSV_FILE_PATH = '/Users/rohituddagiri/Documents/Python Scripts/AI Projects/patient-journey-data-model/database/data/patients.csv'\n",
    "TABLE_NAME = 'stg_patients'\n",
    "\n",
    "# DB_COLUMNS = [\"patientid\", \"memberid\", \"startdate\", \"enddate\", \"payerid\", \"planownership\", \"ownername\"]\n",
    "\n",
    "DB_COLUMNS = loader.get_columns(table_name=TABLE_NAME)\n"
   ]
  },
  {
   "cell_type": "code",
   "execution_count": 13,
   "metadata": {},
   "outputs": [
    {
     "data": {
      "text/plain": [
       "['patientid',\n",
       " 'birthdate',\n",
       " 'deathdate',\n",
       " 'ssn',\n",
       " 'drivers',\n",
       " 'passport',\n",
       " 'prefix',\n",
       " 'firstname',\n",
       " 'middlename',\n",
       " 'lastname',\n",
       " 'suffix',\n",
       " 'maiden',\n",
       " 'martial',\n",
       " 'race',\n",
       " 'ethinicity',\n",
       " 'gender',\n",
       " 'birthplace',\n",
       " 'address',\n",
       " 'city',\n",
       " 'state',\n",
       " 'county',\n",
       " 'fips',\n",
       " 'zip',\n",
       " 'lat',\n",
       " 'lon',\n",
       " 'healthcareexpenses',\n",
       " 'healthcarecoverage',\n",
       " 'income']"
      ]
     },
     "execution_count": 13,
     "metadata": {},
     "output_type": "execute_result"
    }
   ],
   "source": [
    "DB_COLUMNS"
   ]
  },
  {
   "cell_type": "code",
   "execution_count": 14,
   "metadata": {},
   "outputs": [
    {
     "name": "stdout",
     "output_type": "stream",
     "text": [
      "\n",
      " Processing /Users/rohituddagiri/Documents/Python Scripts/AI Projects/patient-journey-data-model/database/data/patients.csv --> stg_patients...\n",
      "Error processing /Users/rohituddagiri/Documents/Python Scripts/AI Projects/patient-journey-data-model/database/data/patients.csv: unhashable type: 'list'\n"
     ]
    }
   ],
   "source": [
    "loader.load_csv_to_table(csv_file=CSV_FILE_PATH,table_name=TABLE_NAME,db_cols=DB_COLUMNS)"
   ]
  },
  {
   "cell_type": "code",
   "execution_count": null,
   "metadata": {},
   "outputs": [],
   "source": []
  },
  {
   "cell_type": "code",
   "execution_count": 9,
   "metadata": {},
   "outputs": [
    {
     "name": "stdout",
     "output_type": "stream",
     "text": [
      "DB Connection Closed.\n"
     ]
    }
   ],
   "source": [
    "loader.close_connection()"
   ]
  },
  {
   "cell_type": "code",
   "execution_count": 17,
   "metadata": {},
   "outputs": [
    {
     "data": {
      "text/plain": [
       "'INSERT INTO stg_patients (patientid, birthdate, deathdate, ssn, drivers, passport, prefix, firstname, middlename, lastname, suffix, maiden, martial, race, ethinicity, gender, birthplace, address, city, state, county, fips, zip, lat, lon, healthcareexpenses, healthcarecoverage, income) VALUES (%s, %s, %s, %s, %s, %s, %s, %s, %s, %s, %s, %s, %s, %s, %s, %s, %s, %s, %s, %s, %s, %s, %s, %s, %s, %s, %s, %s)'"
      ]
     },
     "execution_count": 17,
     "metadata": {},
     "output_type": "execute_result"
    }
   ],
   "source": [
    "insert_query = f\"INSERT INTO {TABLE_NAME} ({', '.join(DB_COLUMNS)}) VALUES ({', '.join(['%s'] * len(DB_COLUMNS))})\"\n",
    "insert_query"
   ]
  },
  {
   "cell_type": "code",
   "execution_count": 15,
   "metadata": {},
   "outputs": [],
   "source": [
    "with open(CSV_FILE_PATH, \"r\", encoding=\"utf-8\") as f:\n",
    "    reader = csv.DictReader(f)\n",
    "    conn = psycopg2.connect(dbname=DB_NAME, \n",
    "                user=DB_USER,\n",
    "                password=DB_PASSWORD,\n",
    "                host=DB_HOST,\n",
    "                port=DB_PORT)\n",
    "    cur = conn.cursor()\n",
    "    \n",
    "    copy_sql = f\"copy {TABLE_NAME} from stdin delimiter as ','\"\n",
    "    \n",
    "    cur.copy_expert(copy_sql, f)\n",
    "    \n",
    "    # for row in reader:\n",
    "    #     # selected_rows = tuple(row[col] for col in CSV_COLUMNS)\n",
    "    #     # print([tuple(row[col] for col in row)])\n",
    "    #     insert_data.append(tuple(row[col] for col in row))\n",
    "    #     try:\n",
    "    #         cur.executemany(insert_query, insert_data)\n",
    "    #         conn.commit()\n",
    "    #     except Exception as e:\n",
    "    #         print(f\"Skipping row due to error: {row} -> {e}\")\n",
    "    \n",
    "conn.commit()\n",
    "conn.close()\n",
    "            "
   ]
  },
  {
   "cell_type": "code",
   "execution_count": null,
   "metadata": {},
   "outputs": [
    {
     "name": "stdout",
     "output_type": "stream",
     "text": [
      "[('patientid',), ('birthdate',), ('deathdate',), ('ssn',), ('drivers',), ('passport',), ('prefix',), ('firstname',), ('middlename',), ('lastname',), ('suffix',), ('maiden',), ('martial',), ('race',), ('ethinicity',), ('gender',), ('birthplace',), ('address',), ('city',), ('state',), ('county',), ('fips',), ('zip',), ('lat',), ('lon',), ('healthcareexpenses',), ('healthcarecoverage',), ('income',)]\n"
     ]
    }
   ],
   "source": [
    "conn = psycopg2.connect(dbname=DB_NAME, \n",
    "                user=DB_USER,\n",
    "                password=DB_PASSWORD,\n",
    "                host=DB_HOST,\n",
    "                port=DB_PORT)\n",
    "cur = conn.cursor()\n",
    "\n",
    "cur.execute(\"\"\"SELECT column_name\n",
    "  FROM information_schema.columns\n",
    " WHERE table_schema = 'public'\n",
    "   AND table_name   = 'patients'\"\"\")\n",
    "\n",
    "res = cur.fetchall()\n",
    "print(res)"
   ]
  },
  {
   "cell_type": "code",
   "execution_count": 25,
   "metadata": {},
   "outputs": [
    {
     "data": {
      "text/plain": [
       "['patientid',\n",
       " 'birthdate',\n",
       " 'deathdate',\n",
       " 'ssn',\n",
       " 'drivers',\n",
       " 'passport',\n",
       " 'prefix',\n",
       " 'firstname',\n",
       " 'middlename',\n",
       " 'lastname',\n",
       " 'suffix',\n",
       " 'maiden',\n",
       " 'martial',\n",
       " 'race',\n",
       " 'ethinicity',\n",
       " 'gender',\n",
       " 'birthplace',\n",
       " 'address',\n",
       " 'city',\n",
       " 'state',\n",
       " 'county',\n",
       " 'fips',\n",
       " 'zip',\n",
       " 'lat',\n",
       " 'lon',\n",
       " 'healthcareexpenses',\n",
       " 'healthcarecoverage',\n",
       " 'income']"
      ]
     },
     "execution_count": 25,
     "metadata": {},
     "output_type": "execute_result"
    }
   ],
   "source": [
    "list(map(lambda row: row[0], res))"
   ]
  }
 ],
 "metadata": {
  "kernelspec": {
   "display_name": "chatSQLAgent",
   "language": "python",
   "name": "python3"
  },
  "language_info": {
   "codemirror_mode": {
    "name": "ipython",
    "version": 3
   },
   "file_extension": ".py",
   "mimetype": "text/x-python",
   "name": "python",
   "nbconvert_exporter": "python",
   "pygments_lexer": "ipython3",
   "version": "3.10.16"
  }
 },
 "nbformat": 4,
 "nbformat_minor": 2
}
